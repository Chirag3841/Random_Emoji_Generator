{
  "metadata": {
    "kernelspec": {
      "language": "python",
      "display_name": "Python 3",
      "name": "python3"
    },
    "language_info": {
      "name": "python",
      "version": "3.10.12",
      "mimetype": "text/x-python",
      "codemirror_mode": {
        "name": "ipython",
        "version": 3
      },
      "pygments_lexer": "ipython3",
      "nbconvert_exporter": "python",
      "file_extension": ".py"
    },
    "kaggle": {
      "accelerator": "none",
      "dataSources": [],
      "dockerImageVersionId": 30918,
      "isInternetEnabled": false,
      "language": "python",
      "sourceType": "notebook",
      "isGpuEnabled": false
    },
    "colab": {
      "name": "notebook9ff49cba89",
      "provenance": [],
      "include_colab_link": true
    }
  },
  "nbformat_minor": 0,
  "nbformat": 4,
  "cells": [
    {
      "cell_type": "markdown",
      "metadata": {
        "id": "view-in-github",
        "colab_type": "text"
      },
      "source": [
        "<a href=\"https://colab.research.google.com/github/Chirag3841/Random_Emoji_Generator/blob/main/notebook9ff49cba89.ipynb\" target=\"_parent\"><img src=\"https://colab.research.google.com/assets/colab-badge.svg\" alt=\"Open In Colab\"/></a>"
      ]
    },
    {
      "cell_type": "code",
      "source": [
        "# This Python 3 environment comes with many helpful analytics libraries installed\n",
        "# It is defined by the kaggle/python Docker image: https://github.com/kaggle/docker-python\n",
        "# For example, here's several helpful packages to load\n",
        "\n",
        "import numpy as np # linear algebra\n",
        "import pandas as pd # data processing, CSV file I/O (e.g. pd.read_csv)\n",
        "\n",
        "# Input data files are available in the read-only \"../input/\" directory\n",
        "# For example, running this (by clicking run or pressing Shift+Enter) will list all files under the input directory\n",
        "\n",
        "import os\n",
        "for dirname, _, filenames in os.walk('/kaggle/input'):\n",
        "    for filename in filenames:\n",
        "        print(os.path.join(dirname, filename))\n",
        "\n",
        "# You can write up to 20GB to the current directory (/kaggle/working/) that gets preserved as output when you create a version using \"Save & Run All\"\n",
        "# You can also write temporary files to /kaggle/temp/, but they won't be saved outside of the current session"
      ],
      "metadata": {
        "_uuid": "8f2839f25d086af736a60e9eeb907d3b93b6e0e5",
        "_cell_guid": "b1076dfc-b9ad-4769-8c92-a6c4dae69d19",
        "trusted": true,
        "execution": {
          "iopub.status.busy": "2025-04-02T03:57:21.5342Z",
          "iopub.execute_input": "2025-04-02T03:57:21.534557Z",
          "iopub.status.idle": "2025-04-02T03:57:21.928484Z",
          "shell.execute_reply.started": "2025-04-02T03:57:21.534521Z",
          "shell.execute_reply": "2025-04-02T03:57:21.927441Z"
        },
        "id": "HwwqbbY5yqV6"
      },
      "outputs": [],
      "execution_count": null
    },
    {
      "cell_type": "code",
      "source": [
        "import tensorflow as tf\n",
        "from tensorflow.keras import layers, models\n",
        "from tensorflow.keras.utils import to_categorical\n",
        "import numpy as np\n",
        "import cv2\n",
        "import os\n",
        "import random\n",
        "import matplotlib.pyplot as plt\n",
        "from sklearn.model_selection import train_test_split"
      ],
      "metadata": {
        "trusted": true,
        "execution": {
          "iopub.status.busy": "2025-04-02T03:57:21.930327Z",
          "iopub.execute_input": "2025-04-02T03:57:21.930948Z",
          "iopub.status.idle": "2025-04-02T03:57:39.668419Z",
          "shell.execute_reply.started": "2025-04-02T03:57:21.930906Z",
          "shell.execute_reply": "2025-04-02T03:57:39.667269Z"
        },
        "id": "4qKpPQgnyqWC"
      },
      "outputs": [],
      "execution_count": null
    },
    {
      "cell_type": "code",
      "source": [
        "EMOJIS = {\n",
        "    \"happy\": [\"😀\", \"😃\", \"😄\", \"😁\", \"😆\"],\n",
        "    \"sad\": [\"😢\", \"😭\", \"😞\", \"😔\", \"😟\"],\n",
        "    \"angry\": [\"😠\", \"😡\", \"🤬\", \"👿\", \"😤\"],\n",
        "    \"surprised\": [\"😲\", \"😳\", \"🤯\", \"😨\", \"😱\"]\n",
        "}\n"
      ],
      "metadata": {
        "trusted": true,
        "execution": {
          "iopub.status.busy": "2025-04-02T03:57:39.670542Z",
          "iopub.execute_input": "2025-04-02T03:57:39.671397Z",
          "iopub.status.idle": "2025-04-02T03:57:39.676445Z",
          "shell.execute_reply.started": "2025-04-02T03:57:39.671346Z",
          "shell.execute_reply": "2025-04-02T03:57:39.675463Z"
        },
        "id": "y_kVt7doyqWD"
      },
      "outputs": [],
      "execution_count": null
    },
    {
      "cell_type": "code",
      "source": [
        "def generate_emoji_data(num_samples=1000):\n",
        "    images = []\n",
        "    labels = []\n",
        "    img_size = 64\n",
        "\n",
        "    for label_idx, (expr, emoji_list) in enumerate(EMOJIS.items()):\n",
        "        for _ in range(num_samples // len(EMOJIS)):\n",
        "            # Randomly select an emoji from this category\n",
        "            emoji_char = random.choice(emoji_list)\n",
        "\n",
        "            # Create a blank image\n",
        "            img = np.zeros((img_size, img_size, 3), dtype=np.float32)\n",
        "\n",
        "            # Add random background color\n",
        "            bg_color = np.random.uniform(0.1, 0.3, size=3)\n",
        "            img[:, :] = bg_color\n",
        "\n",
        "            # Add the emoji (simplified representation)\n",
        "            center = img_size // 2\n",
        "            cv2.putText(img, emoji_char, (center-10, center+10),\n",
        "                       cv2.FONT_HERSHEY_SIMPLEX, 0.8,\n",
        "                       (1.0, 1.0, 1.0), 2, cv2.LINE_AA)\n",
        "\n",
        "            images.append(img)\n",
        "            labels.append(label_idx)\n",
        "\n",
        "    return np.array(images), np.array(labels)\n"
      ],
      "metadata": {
        "trusted": true,
        "execution": {
          "iopub.status.busy": "2025-04-02T03:57:39.678576Z",
          "iopub.execute_input": "2025-04-02T03:57:39.678987Z",
          "iopub.status.idle": "2025-04-02T03:57:39.706737Z",
          "shell.execute_reply.started": "2025-04-02T03:57:39.678946Z",
          "shell.execute_reply": "2025-04-02T03:57:39.705426Z"
        },
        "id": "5xDSfpTCyqWE"
      },
      "outputs": [],
      "execution_count": null
    },
    {
      "cell_type": "code",
      "source": [
        "X, y = generate_emoji_data()\n",
        "X = X / 255.0  # Normalize\n",
        "\n",
        "# Split data\n",
        "X_train, X_test, y_train, y_test = train_test_split(X, y, test_size=0.2, random_state=42)\n",
        "y_train = to_categorical(y_train, len(EMOJIS))\n",
        "y_test = to_categorical(y_test, len(EMOJIS))\n"
      ],
      "metadata": {
        "trusted": true,
        "execution": {
          "iopub.status.busy": "2025-04-02T03:57:39.708034Z",
          "iopub.execute_input": "2025-04-02T03:57:39.70835Z",
          "iopub.status.idle": "2025-04-02T03:57:39.946794Z",
          "shell.execute_reply.started": "2025-04-02T03:57:39.708321Z",
          "shell.execute_reply": "2025-04-02T03:57:39.945735Z"
        },
        "id": "cBWQLyG_yqWF"
      },
      "outputs": [],
      "execution_count": null
    },
    {
      "cell_type": "code",
      "source": [
        "def build_emoji_model():\n",
        "    model = models.Sequential([\n",
        "        layers.Conv2D(32, (3, 3), activation='relu', input_shape=(64, 64, 3)),\n",
        "        layers.MaxPooling2D((2, 2)),\n",
        "        layers.Conv2D(64, (3, 3), activation='relu'),\n",
        "        layers.MaxPooling2D((2, 2)),\n",
        "        layers.Flatten(),\n",
        "        layers.Dense(128, activation='relu'),\n",
        "        layers.Dense(len(EMOJIS), activation='softmax')\n",
        "    ])\n",
        "\n",
        "    model.compile(optimizer='adam',\n",
        "                 loss='categorical_crossentropy',\n",
        "                 metrics=['accuracy'])\n",
        "    return model"
      ],
      "metadata": {
        "trusted": true,
        "execution": {
          "iopub.status.busy": "2025-04-02T03:57:39.947767Z",
          "iopub.execute_input": "2025-04-02T03:57:39.948135Z",
          "iopub.status.idle": "2025-04-02T03:57:39.95404Z",
          "shell.execute_reply.started": "2025-04-02T03:57:39.948097Z",
          "shell.execute_reply": "2025-04-02T03:57:39.952717Z"
        },
        "id": "-7t-sZjCyqWG"
      },
      "outputs": [],
      "execution_count": null
    },
    {
      "cell_type": "code",
      "source": [
        "model = build_emoji_model()\n",
        "history = model.fit(X_train, y_train, epochs=10, validation_split=0.2)\n",
        "\n",
        "# Evaluate\n",
        "loss, accuracy = model.evaluate(X_test, y_test)\n",
        "print(f\"Test accuracy: {accuracy:.2f}\")"
      ],
      "metadata": {
        "trusted": true,
        "execution": {
          "iopub.status.busy": "2025-04-02T03:57:39.955108Z",
          "iopub.execute_input": "2025-04-02T03:57:39.95539Z",
          "iopub.status.idle": "2025-04-02T03:58:03.503441Z",
          "shell.execute_reply.started": "2025-04-02T03:57:39.955365Z",
          "shell.execute_reply": "2025-04-02T03:58:03.502393Z"
        },
        "id": "E7_aI-UmyqWI",
        "outputId": "dd98f9db-f123-4bf4-e87e-72cd285442d2"
      },
      "outputs": [
        {
          "name": "stderr",
          "text": "/usr/local/lib/python3.10/dist-packages/keras/src/layers/convolutional/base_conv.py:107: UserWarning: Do not pass an `input_shape`/`input_dim` argument to a layer. When using Sequential models, prefer using an `Input(shape)` object as the first layer in the model instead.\n  super().__init__(activity_regularizer=activity_regularizer, **kwargs)\n",
          "output_type": "stream"
        },
        {
          "name": "stdout",
          "text": "Epoch 1/10\n\u001b[1m20/20\u001b[0m \u001b[32m━━━━━━━━━━━━━━━━━━━━\u001b[0m\u001b[37m\u001b[0m \u001b[1m4s\u001b[0m 110ms/step - accuracy: 0.2294 - loss: 1.3870 - val_accuracy: 0.2188 - val_loss: 1.3871\nEpoch 2/10\n\u001b[1m20/20\u001b[0m \u001b[32m━━━━━━━━━━━━━━━━━━━━\u001b[0m\u001b[37m\u001b[0m \u001b[1m2s\u001b[0m 95ms/step - accuracy: 0.2499 - loss: 1.3863 - val_accuracy: 0.2188 - val_loss: 1.3872\nEpoch 3/10\n\u001b[1m20/20\u001b[0m \u001b[32m━━━━━━━━━━━━━━━━━━━━\u001b[0m\u001b[37m\u001b[0m \u001b[1m3s\u001b[0m 137ms/step - accuracy: 0.2321 - loss: 1.3864 - val_accuracy: 0.2688 - val_loss: 1.3870\nEpoch 4/10\n\u001b[1m20/20\u001b[0m \u001b[32m━━━━━━━━━━━━━━━━━━━━\u001b[0m\u001b[37m\u001b[0m \u001b[1m2s\u001b[0m 94ms/step - accuracy: 0.2629 - loss: 1.3859 - val_accuracy: 0.2188 - val_loss: 1.3874\nEpoch 5/10\n\u001b[1m20/20\u001b[0m \u001b[32m━━━━━━━━━━━━━━━━━━━━\u001b[0m\u001b[37m\u001b[0m \u001b[1m2s\u001b[0m 96ms/step - accuracy: 0.2553 - loss: 1.3853 - val_accuracy: 0.2188 - val_loss: 1.3879\nEpoch 6/10\n\u001b[1m20/20\u001b[0m \u001b[32m━━━━━━━━━━━━━━━━━━━━\u001b[0m\u001b[37m\u001b[0m \u001b[1m2s\u001b[0m 94ms/step - accuracy: 0.2500 - loss: 1.3873 - val_accuracy: 0.2188 - val_loss: 1.3880\nEpoch 7/10\n\u001b[1m20/20\u001b[0m \u001b[32m━━━━━━━━━━━━━━━━━━━━\u001b[0m\u001b[37m\u001b[0m \u001b[1m2s\u001b[0m 94ms/step - accuracy: 0.2688 - loss: 1.3858 - val_accuracy: 0.2188 - val_loss: 1.3881\nEpoch 8/10\n\u001b[1m20/20\u001b[0m \u001b[32m━━━━━━━━━━━━━━━━━━━━\u001b[0m\u001b[37m\u001b[0m \u001b[1m3s\u001b[0m 93ms/step - accuracy: 0.2606 - loss: 1.3857 - val_accuracy: 0.2188 - val_loss: 1.3880\nEpoch 9/10\n\u001b[1m20/20\u001b[0m \u001b[32m━━━━━━━━━━━━━━━━━━━━\u001b[0m\u001b[37m\u001b[0m \u001b[1m2s\u001b[0m 93ms/step - accuracy: 0.2704 - loss: 1.3855 - val_accuracy: 0.2188 - val_loss: 1.3884\nEpoch 10/10\n\u001b[1m20/20\u001b[0m \u001b[32m━━━━━━━━━━━━━━━━━━━━\u001b[0m\u001b[37m\u001b[0m \u001b[1m2s\u001b[0m 93ms/step - accuracy: 0.2731 - loss: 1.3863 - val_accuracy: 0.2188 - val_loss: 1.3882\n\u001b[1m7/7\u001b[0m \u001b[32m━━━━━━━━━━━━━━━━━━━━\u001b[0m\u001b[37m\u001b[0m \u001b[1m0s\u001b[0m 22ms/step - accuracy: 0.2508 - loss: 1.3867\nTest accuracy: 0.25\n",
          "output_type": "stream"
        }
      ],
      "execution_count": null
    },
    {
      "cell_type": "code",
      "source": [
        "def generate_random_emoji(predicted_index):\n",
        "    expression = list(EMOJIS.keys())[predicted_index]\n",
        "    emoji_char = random.choice(EMOJIS[expression])\n",
        "\n",
        "    # Create visualization\n",
        "    fig, ax = plt.subplots(figsize=(3, 3))\n",
        "    ax.text(0.5, 0.5, emoji_char, fontsize=60, ha='center', va='center')\n",
        "    ax.axis('off')\n",
        "    plt.title(f\"Generated {expression} emoji\")\n",
        "    plt.show()\n",
        "    return emoji_char"
      ],
      "metadata": {
        "trusted": true,
        "execution": {
          "iopub.status.busy": "2025-04-02T03:58:03.506363Z",
          "iopub.execute_input": "2025-04-02T03:58:03.5067Z",
          "iopub.status.idle": "2025-04-02T03:58:03.512736Z",
          "shell.execute_reply.started": "2025-04-02T03:58:03.506672Z",
          "shell.execute_reply": "2025-04-02T03:58:03.511556Z"
        },
        "id": "JLhU6NhHyqWK"
      },
      "outputs": [],
      "execution_count": null
    },
    {
      "cell_type": "code",
      "source": [
        "def run_demo():\n",
        "    while True:\n",
        "        print(\"\\n1. Generate random emoji\")\n",
        "        print(\"2. Predict emoji from random sample\")\n",
        "        print(\"3. Exit\")\n",
        "        choice = input(\"Choose an option: \")\n",
        "\n",
        "        if choice == \"1\":\n",
        "            # Generate completely random emoji\n",
        "            expr = random.choice(list(EMOJIS.keys()))\n",
        "            emoji_char = random.choice(EMOJIS[expr])\n",
        "            print(f\"Random {expr} emoji: {emoji_char}\")\n",
        "\n",
        "            fig, ax = plt.subplots(figsize=(3, 3))\n",
        "            ax.text(0.5, 0.5, emoji_char, fontsize=60, ha='center', va='center')\n",
        "            ax.axis('off')\n",
        "            plt.show()\n",
        "\n",
        "        elif choice == \"2\":\n",
        "            # Use model to predict category and then generate emoji\n",
        "            random_sample = random.choice(X_test)\n",
        "            prediction = model.predict(np.expand_dims(random_sample, axis=0))\n",
        "            predicted_index = np.argmax(prediction)\n",
        "            generate_random_emoji(predicted_index)\n",
        "\n",
        "        elif choice == \"3\":\n",
        "            print(\"THE END\")\n",
        "            break\n",
        "\n",
        "        else:\n",
        "            print(\"Invalid choice\")"
      ],
      "metadata": {
        "trusted": true,
        "execution": {
          "iopub.status.busy": "2025-04-02T03:58:03.514151Z",
          "iopub.execute_input": "2025-04-02T03:58:03.514432Z",
          "iopub.status.idle": "2025-04-02T03:58:03.53724Z",
          "shell.execute_reply.started": "2025-04-02T03:58:03.514407Z",
          "shell.execute_reply": "2025-04-02T03:58:03.536121Z"
        },
        "id": "NCiwTdpTyqWM"
      },
      "outputs": [],
      "execution_count": null
    },
    {
      "cell_type": "code",
      "source": [
        "run_demo()"
      ],
      "metadata": {
        "trusted": true,
        "execution": {
          "iopub.status.busy": "2025-04-02T03:58:03.538266Z",
          "iopub.execute_input": "2025-04-02T03:58:03.538601Z"
        },
        "id": "0hiIjSflyqWN",
        "outputId": "62ecdb50-ff29-4795-f798-d78e14bd916c"
      },
      "outputs": [
        {
          "name": "stdout",
          "text": "\n1. Generate random emoji\n2. Predict emoji from random sample\n3. Exit\n",
          "output_type": "stream"
        }
      ],
      "execution_count": null
    }
  ]
}