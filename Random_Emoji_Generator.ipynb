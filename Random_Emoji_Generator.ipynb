{
  "metadata": {
    "kernelspec": {
      "language": "python",
      "display_name": "Python 3",
      "name": "python3"
    },
    "language_info": {
      "name": "python",
      "version": "3.10.12",
      "mimetype": "text/x-python",
      "codemirror_mode": {
        "name": "ipython",
        "version": 3
      },
      "pygments_lexer": "ipython3",
      "nbconvert_exporter": "python",
      "file_extension": ".py"
    },
    "kaggle": {
      "accelerator": "none",
      "dataSources": [],
      "dockerImageVersionId": 30918,
      "isInternetEnabled": false,
      "language": "python",
      "sourceType": "notebook",
      "isGpuEnabled": false
    },
    "colab": {
      "name": "notebook9ff49cba89",
      "provenance": [],
      "include_colab_link": true
    }
  },
  "nbformat_minor": 0,
  "nbformat": 4,
  "cells": [
    {
      "cell_type": "markdown",
      "metadata": {
        "id": "view-in-github",
        "colab_type": "text"
      },
      "source": [
        "<a href=\"https://colab.research.google.com/github/Chirag3841/Random_Emoji_Generator/blob/main/Random_Emoji_Generator.ipynb\" target=\"_parent\"><img src=\"https://colab.research.google.com/assets/colab-badge.svg\" alt=\"Open In Colab\"/></a>"
      ]
    },
    {
      "cell_type": "code",
      "source": [
        "# This Python 3 environment comes with many helpful analytics libraries installed\n",
        "# It is defined by the kaggle/python Docker image: https://github.com/kaggle/docker-python\n",
        "# For example, here's several helpful packages to load\n",
        "\n",
        "import numpy as np # linear algebra\n",
        "import pandas as pd # data processing, CSV file I/O (e.g. pd.read_csv)\n",
        "\n",
        "# Input data files are available in the read-only \"../input/\" directory\n",
        "# For example, running this (by clicking run or pressing Shift+Enter) will list all files under the input directory\n",
        "\n",
        "import os\n",
        "for dirname, _, filenames in os.walk('/kaggle/input'):\n",
        "    for filename in filenames:\n",
        "        print(os.path.join(dirname, filename))\n",
        "\n",
        "# You can write up to 20GB to the current directory (/kaggle/working/) that gets preserved as output when you create a version using \"Save & Run All\"\n",
        "# You can also write temporary files to /kaggle/temp/, but they won't be saved outside of the current session"
      ],
      "metadata": {
        "_uuid": "8f2839f25d086af736a60e9eeb907d3b93b6e0e5",
        "_cell_guid": "b1076dfc-b9ad-4769-8c92-a6c4dae69d19",
        "trusted": true,
        "execution": {
          "iopub.status.busy": "2025-04-02T04:44:56.488003Z",
          "iopub.execute_input": "2025-04-02T04:44:56.488407Z",
          "iopub.status.idle": "2025-04-02T04:44:56.937663Z",
          "shell.execute_reply.started": "2025-04-02T04:44:56.48836Z",
          "shell.execute_reply": "2025-04-02T04:44:56.936568Z"
        },
        "id": "ltxu1hag0-2J"
      },
      "outputs": [],
      "execution_count": 1
    },
    {
      "cell_type": "code",
      "source": [
        "import tensorflow as tf\n",
        "from tensorflow.keras import layers, models\n",
        "from tensorflow.keras.utils import to_categorical\n",
        "import numpy as np\n",
        "import cv2\n",
        "import os\n",
        "import random\n",
        "import matplotlib.pyplot as plt\n",
        "from sklearn.model_selection import train_test_split"
      ],
      "metadata": {
        "trusted": true,
        "execution": {
          "iopub.status.busy": "2025-04-02T04:44:56.938926Z",
          "iopub.execute_input": "2025-04-02T04:44:56.939482Z",
          "iopub.status.idle": "2025-04-02T04:45:13.73963Z",
          "shell.execute_reply.started": "2025-04-02T04:44:56.939422Z",
          "shell.execute_reply": "2025-04-02T04:45:13.738565Z"
        },
        "id": "N9PJHb3N0-2O"
      },
      "outputs": [],
      "execution_count": 2
    },
    {
      "cell_type": "code",
      "source": [
        "EMOJIS = {\n",
        "    \"happy\": [\"😀\", \"😃\", \"😄\", \"😁\", \"😆\"],\n",
        "    \"sad\": [\"😢\", \"😭\", \"😞\", \"😔\", \"😟\"],\n",
        "    \"angry\": [\"😠\", \"😡\", \"🤬\", \"👿\", \"😤\"],\n",
        "    \"surprised\": [\"😲\", \"😳\", \"🤯\", \"😨\", \"😱\"]\n",
        "}"
      ],
      "metadata": {
        "trusted": true,
        "execution": {
          "iopub.status.busy": "2025-04-02T04:45:13.741947Z",
          "iopub.execute_input": "2025-04-02T04:45:13.74282Z",
          "iopub.status.idle": "2025-04-02T04:45:13.747711Z",
          "shell.execute_reply.started": "2025-04-02T04:45:13.742773Z",
          "shell.execute_reply": "2025-04-02T04:45:13.746559Z"
        },
        "id": "LsfnfUFa0-2P"
      },
      "outputs": [],
      "execution_count": 3
    },
    {
      "cell_type": "code",
      "source": [
        "def generate_emoji_data(num_samples=1000):\n",
        "    images = []\n",
        "    labels = []\n",
        "    img_size = 64\n",
        "\n",
        "    for label_idx, (expr, emoji_list) in enumerate(EMOJIS.items()):\n",
        "        for _ in range(num_samples // len(EMOJIS)):\n",
        "            # Randomly select an emoji from this category\n",
        "            emoji_char = random.choice(emoji_list)\n",
        "\n",
        "            # Create a blank image\n",
        "            img = np.zeros((img_size, img_size, 3), dtype=np.float32)\n",
        "\n",
        "            # Add random background color\n",
        "            bg_color = np.random.uniform(0.1, 0.3, size=3)\n",
        "            img[:, :] = bg_color\n",
        "\n",
        "            # Add the emoji (simplified representation)\n",
        "            center = img_size // 2\n",
        "            cv2.putText(img, emoji_char, (center-10, center+10),\n",
        "                       cv2.FONT_HERSHEY_SIMPLEX, 0.8,\n",
        "                       (1.0, 1.0, 1.0), 2, cv2.LINE_AA)\n",
        "\n",
        "            images.append(img)\n",
        "            labels.append(label_idx)\n",
        "\n",
        "    return np.array(images), np.array(labels)"
      ],
      "metadata": {
        "trusted": true,
        "execution": {
          "iopub.status.busy": "2025-04-02T04:45:13.749596Z",
          "iopub.execute_input": "2025-04-02T04:45:13.749992Z",
          "iopub.status.idle": "2025-04-02T04:45:13.776537Z",
          "shell.execute_reply.started": "2025-04-02T04:45:13.749955Z",
          "shell.execute_reply": "2025-04-02T04:45:13.77553Z"
        },
        "id": "1DDXA4Gr0-2Q"
      },
      "outputs": [],
      "execution_count": 4
    },
    {
      "cell_type": "code",
      "source": [
        "X, y = generate_emoji_data()\n",
        "X = X / 255.0  # Normalize\n",
        "\n",
        "# Split data\n",
        "X_train, X_test, y_train, y_test = train_test_split(X, y, test_size=0.2, random_state=42)\n",
        "y_train = to_categorical(y_train, len(EMOJIS))\n",
        "y_test = to_categorical(y_test, len(EMOJIS))"
      ],
      "metadata": {
        "trusted": true,
        "execution": {
          "iopub.status.busy": "2025-04-02T04:45:13.777714Z",
          "iopub.execute_input": "2025-04-02T04:45:13.778096Z",
          "iopub.status.idle": "2025-04-02T04:45:13.996765Z",
          "shell.execute_reply.started": "2025-04-02T04:45:13.778059Z",
          "shell.execute_reply": "2025-04-02T04:45:13.9957Z"
        },
        "id": "MzZu0VxQ0-2S"
      },
      "outputs": [],
      "execution_count": 5
    },
    {
      "cell_type": "code",
      "source": [
        "def build_emoji_model():\n",
        "    model = models.Sequential([\n",
        "        layers.Conv2D(32, (3, 3), activation='relu', input_shape=(64, 64, 3)),\n",
        "        layers.MaxPooling2D((2, 2)),\n",
        "        layers.Conv2D(64, (3, 3), activation='relu'),\n",
        "        layers.MaxPooling2D((2, 2)),\n",
        "        layers.Flatten(),\n",
        "        layers.Dense(128, activation='relu'),\n",
        "        layers.Dense(len(EMOJIS), activation='softmax')\n",
        "    ])\n",
        "\n",
        "    model.compile(optimizer='adam',\n",
        "                 loss='categorical_crossentropy',\n",
        "                 metrics=['accuracy'])\n",
        "    return model"
      ],
      "metadata": {
        "trusted": true,
        "execution": {
          "iopub.status.busy": "2025-04-02T04:45:13.997788Z",
          "iopub.execute_input": "2025-04-02T04:45:13.998152Z",
          "iopub.status.idle": "2025-04-02T04:45:14.005247Z",
          "shell.execute_reply.started": "2025-04-02T04:45:13.998116Z",
          "shell.execute_reply": "2025-04-02T04:45:14.00386Z"
        },
        "id": "umDdf2mj0-2S"
      },
      "outputs": [],
      "execution_count": 6
    },
    {
      "cell_type": "code",
      "source": [
        "model = build_emoji_model()\n",
        "history = model.fit(X_train, y_train, epochs=10, validation_split=0.2)\n",
        "\n",
        "# Evaluate\n",
        "loss, accuracy = model.evaluate(X_test, y_test)\n",
        "print(f\"Test accuracy: {accuracy:.2f}\")"
      ],
      "metadata": {
        "trusted": true,
        "execution": {
          "iopub.status.busy": "2025-04-02T04:45:14.006392Z",
          "iopub.execute_input": "2025-04-02T04:45:14.006744Z",
          "iopub.status.idle": "2025-04-02T04:45:35.976766Z",
          "shell.execute_reply.started": "2025-04-02T04:45:14.006703Z",
          "shell.execute_reply": "2025-04-02T04:45:35.975652Z"
        },
        "id": "A1CXBuHN0-2T",
        "outputId": "bbdfbdb8-a44d-4f31-fcee-2bd46a7af02c",
        "colab": {
          "base_uri": "https://localhost:8080/"
        }
      },
      "outputs": [
        {
          "output_type": "stream",
          "name": "stderr",
          "text": [
            "/usr/local/lib/python3.11/dist-packages/keras/src/layers/convolutional/base_conv.py:107: UserWarning: Do not pass an `input_shape`/`input_dim` argument to a layer. When using Sequential models, prefer using an `Input(shape)` object as the first layer in the model instead.\n",
            "  super().__init__(activity_regularizer=activity_regularizer, **kwargs)\n"
          ]
        },
        {
          "output_type": "stream",
          "name": "stdout",
          "text": [
            "Epoch 1/10\n",
            "\u001b[1m 6/20\u001b[0m \u001b[32m━━━━━━\u001b[0m\u001b[37m━━━━━━━━━━━━━━\u001b[0m \u001b[1m4s\u001b[0m 356ms/step - accuracy: 0.2475 - loss: 1.3862"
          ]
        }
      ],
      "execution_count": null
    },
    {
      "cell_type": "code",
      "source": [
        "def generate_random_emoji(predicted_index):\n",
        "    expression = list(EMOJIS.keys())[predicted_index]\n",
        "    emoji_char = random.choice(EMOJIS[expression])\n",
        "\n",
        "    # Create visualization\n",
        "    fig, ax = plt.subplots(figsize=(3, 3))\n",
        "    ax.text(0.5, 0.5, emoji_char, fontsize=60, ha='center', va='center')\n",
        "    ax.axis('off')\n",
        "    plt.title(f\"Generated {expression} emoji\")\n",
        "    plt.show()\n",
        "    return emoji_char"
      ],
      "metadata": {
        "trusted": true,
        "execution": {
          "iopub.status.busy": "2025-04-02T04:45:35.979517Z",
          "iopub.execute_input": "2025-04-02T04:45:35.979813Z",
          "iopub.status.idle": "2025-04-02T04:45:35.985588Z",
          "shell.execute_reply.started": "2025-04-02T04:45:35.979787Z",
          "shell.execute_reply": "2025-04-02T04:45:35.984261Z"
        },
        "id": "Z60ZqOO70-2V"
      },
      "outputs": [],
      "execution_count": null
    },
    {
      "cell_type": "code",
      "source": [
        "def run_demo():\n",
        "    while True:\n",
        "        print(\"\\n1. Generate random emoji\")\n",
        "        print(\"2. Predict emoji from random sample\")\n",
        "        print(\"3. Exit\")\n",
        "        choice = input(\"Choose an option: \")\n",
        "\n",
        "        if choice == \"1\":\n",
        "            # Generate completely random emoji\n",
        "            expr = random.choice(list(EMOJIS.keys()))\n",
        "            emoji_char = random.choice(EMOJIS[expr])\n",
        "            print(f\"Random {expr} emoji: {emoji_char}\")\n",
        "\n",
        "            fig, ax = plt.subplots(figsize=(3, 3))\n",
        "            ax.text(0.5, 0.5, emoji_char, fontsize=60, ha='center', va='center')\n",
        "            ax.axis('off')\n",
        "            plt.show()\n",
        "\n",
        "        elif choice == \"2\":\n",
        "            # Use model to predict category and then generate emoji\n",
        "            random_sample = random.choice(X_test)\n",
        "            prediction = model.predict(np.expand_dims(random_sample, axis=0))\n",
        "            predicted_index = np.argmax(prediction)\n",
        "            generate_random_emoji(predicted_index)\n",
        "\n",
        "        elif choice == \"3\":\n",
        "            print(\"THE END\")\n",
        "            break\n",
        "\n",
        "        else:\n",
        "            print(\"Invalid choice\")"
      ],
      "metadata": {
        "trusted": true,
        "execution": {
          "iopub.status.busy": "2025-04-02T04:45:35.986997Z",
          "iopub.execute_input": "2025-04-02T04:45:35.987372Z",
          "iopub.status.idle": "2025-04-02T04:45:36.011804Z",
          "shell.execute_reply.started": "2025-04-02T04:45:35.987336Z",
          "shell.execute_reply": "2025-04-02T04:45:36.010569Z"
        },
        "id": "3YHG1Ov70-2W"
      },
      "outputs": [],
      "execution_count": null
    },
    {
      "cell_type": "code",
      "source": [
        "run_demo()"
      ],
      "metadata": {
        "trusted": true,
        "execution": {
          "iopub.status.busy": "2025-04-02T04:45:36.012901Z",
          "iopub.execute_input": "2025-04-02T04:45:36.013171Z"
        },
        "id": "OpA6WNQI0-2W",
        "outputId": "47be84f2-d5c8-4443-caf5-6baa4c61d729"
      },
      "outputs": [
        {
          "name": "stdout",
          "text": "\n1. Generate random emoji\n2. Predict emoji from random sample\n3. Exit\n",
          "output_type": "stream"
        },
        {
          "output_type": "stream",
          "name": "stdin",
          "text": "Choose an option:  2\n"
        },
        {
          "name": "stdout",
          "text": "\u001b[1m1/1\u001b[0m \u001b[32m━━━━━━━━━━━━━━━━━━━━\u001b[0m\u001b[37m\u001b[0m \u001b[1m0s\u001b[0m 74ms/step\n",
          "output_type": "stream"
        },
        {
          "output_type": "display_data",
          "data": {
            "text/plain": "<Figure size 300x300 with 1 Axes>",
            "image/png": "[encoded data removed]"
          },
          "metadata": {}
        },
        {
          "name": "stdout",
          "text": "\n1. Generate random emoji\n2. Predict emoji from random sample\n3. Exit\n",
          "output_type": "stream"
        },
        {
          "output_type": "stream",
          "name": "stdin",
          "text": "Choose an option:  1\n"
        },
        {
          "name": "stdout",
          "text": "Random surprised emoji: 😳\n",
          "output_type": "stream"
        },
        {
          "output_type": "display_data",
          "data": {
            "text/plain": "<Figure size 300x300 with 1 Axes>",
            "image/png": "[encoded data removed]"
          },
          "metadata": {}
        },
        {
          "name": "stdout",
          "text": "\n1. Generate random emoji\n2. Predict emoji from random sample\n3. Exit\n",
          "output_type": "stream"
        }
      ],
      "execution_count": null
    }
  ]
}